{
  "nbformat": 4,
  "nbformat_minor": 0,
  "metadata": {
    "colab": {
      "provenance": []
    },
    "kernelspec": {
      "name": "python3",
      "display_name": "Python 3"
    },
    "language_info": {
      "name": "python"
    }
  },
  "cells": [
    {
      "cell_type": "markdown",
      "source": [
        "# Experiment 3\n",
        "Atharva Sonavane   2019120063   BE EXTC"
      ],
      "metadata": {
        "id": "XgFgbcw-Pyyi"
      }
    },
    {
      "cell_type": "code",
      "execution_count": null,
      "metadata": {
        "id": "qEzIUu3dlvyj"
      },
      "outputs": [],
      "source": [
        "import seaborn as sns\n",
        "import pandas as pd\n",
        "import matplotlib.pyplot as plt\n",
        "import numpy as np\n",
        "import statistics"
      ]
    },
    {
      "cell_type": "markdown",
      "source": [
        "Importing all necessary libraries to perform SDA"
      ],
      "metadata": {
        "id": "3xwrdyVP8hS8"
      }
    },
    {
      "cell_type": "code",
      "source": [
        "rd=pd.read_csv(\"TikTok_songs_2021.csv\")"
      ],
      "metadata": {
        "id": "l6WvAy4a4OB3"
      },
      "execution_count": null,
      "outputs": []
    },
    {
      "cell_type": "markdown",
      "source": [
        "The given dataset on which statistical analysis is being performed is a dataset of all the hitsongs of 2021 which were popular on the Tiktok app. It contains statistics such as : Name of the Artist, their pop rating, name of the track, the track rating on a scale of 1 to 100, energy, key speechiness, acousticness, valence, tempo, and duration of each song"
      ],
      "metadata": {
        "id": "SV1LY3nBOlDe"
      }
    },
    {
      "cell_type": "code",
      "source": [
        "rd.head()"
      ],
      "metadata": {
        "colab": {
          "base_uri": "https://localhost:8080/",
          "height": 461
        },
        "id": "kF0GdKyzm-C0",
        "outputId": "e2165b29-599b-406a-fc7c-1cd41da575e9"
      },
      "execution_count": null,
      "outputs": [
        {
          "output_type": "execute_result",
          "data": {
            "text/plain": [
              "                               track_name    artist_name  artist_pop  \\\n",
              "0               STAY (with Justin Bieber)  The Kid LAROI          83   \n",
              "1  Peaches (feat. Daniel Caesar & Giveon)  Justin Bieber          90   \n",
              "2              edamame (feat. Rich Brian)          bbno$          72   \n",
              "3                     Here's Your Perfect   Jamie Miller          65   \n",
              "4                                It's You        Sezairi          57   \n",
              "\n",
              "                        album  track_pop  danceability  energy  key  \\\n",
              "0   STAY (with Justin Bieber)         89         0.591   0.764    1   \n",
              "1                     Justice         86         0.677   0.696    0   \n",
              "2  edamame (feat. Rich Brian)         77         0.815   0.848    4   \n",
              "3         Here's Your Perfect         77         0.558   0.454    6   \n",
              "4                    It's You         73         0.630   0.456    8   \n",
              "\n",
              "   speechiness  acousticness  valence    tempo  duration_ms  mode  \n",
              "0       0.0483        0.0383    0.478  169.928       141806     1  \n",
              "1       0.1190        0.3210    0.464   90.030       198082     1  \n",
              "2       0.1150        0.0230    0.684  106.032       133707     0  \n",
              "3       0.0551        0.4990    0.424  113.120       158594     1  \n",
              "4       0.0317        0.5450    0.166  137.915       251440     1  "
            ],
            "text/html": [
              "\n",
              "  <div id=\"df-5a301567-7b81-45fa-a603-14e884b34c1c\">\n",
              "    <div class=\"colab-df-container\">\n",
              "      <div>\n",
              "<style scoped>\n",
              "    .dataframe tbody tr th:only-of-type {\n",
              "        vertical-align: middle;\n",
              "    }\n",
              "\n",
              "    .dataframe tbody tr th {\n",
              "        vertical-align: top;\n",
              "    }\n",
              "\n",
              "    .dataframe thead th {\n",
              "        text-align: right;\n",
              "    }\n",
              "</style>\n",
              "<table border=\"1\" class=\"dataframe\">\n",
              "  <thead>\n",
              "    <tr style=\"text-align: right;\">\n",
              "      <th></th>\n",
              "      <th>track_name</th>\n",
              "      <th>artist_name</th>\n",
              "      <th>artist_pop</th>\n",
              "      <th>album</th>\n",
              "      <th>track_pop</th>\n",
              "      <th>danceability</th>\n",
              "      <th>energy</th>\n",
              "      <th>key</th>\n",
              "      <th>speechiness</th>\n",
              "      <th>acousticness</th>\n",
              "      <th>valence</th>\n",
              "      <th>tempo</th>\n",
              "      <th>duration_ms</th>\n",
              "      <th>mode</th>\n",
              "    </tr>\n",
              "  </thead>\n",
              "  <tbody>\n",
              "    <tr>\n",
              "      <th>0</th>\n",
              "      <td>STAY (with Justin Bieber)</td>\n",
              "      <td>The Kid LAROI</td>\n",
              "      <td>83</td>\n",
              "      <td>STAY (with Justin Bieber)</td>\n",
              "      <td>89</td>\n",
              "      <td>0.591</td>\n",
              "      <td>0.764</td>\n",
              "      <td>1</td>\n",
              "      <td>0.0483</td>\n",
              "      <td>0.0383</td>\n",
              "      <td>0.478</td>\n",
              "      <td>169.928</td>\n",
              "      <td>141806</td>\n",
              "      <td>1</td>\n",
              "    </tr>\n",
              "    <tr>\n",
              "      <th>1</th>\n",
              "      <td>Peaches (feat. Daniel Caesar &amp; Giveon)</td>\n",
              "      <td>Justin Bieber</td>\n",
              "      <td>90</td>\n",
              "      <td>Justice</td>\n",
              "      <td>86</td>\n",
              "      <td>0.677</td>\n",
              "      <td>0.696</td>\n",
              "      <td>0</td>\n",
              "      <td>0.1190</td>\n",
              "      <td>0.3210</td>\n",
              "      <td>0.464</td>\n",
              "      <td>90.030</td>\n",
              "      <td>198082</td>\n",
              "      <td>1</td>\n",
              "    </tr>\n",
              "    <tr>\n",
              "      <th>2</th>\n",
              "      <td>edamame (feat. Rich Brian)</td>\n",
              "      <td>bbno$</td>\n",
              "      <td>72</td>\n",
              "      <td>edamame (feat. Rich Brian)</td>\n",
              "      <td>77</td>\n",
              "      <td>0.815</td>\n",
              "      <td>0.848</td>\n",
              "      <td>4</td>\n",
              "      <td>0.1150</td>\n",
              "      <td>0.0230</td>\n",
              "      <td>0.684</td>\n",
              "      <td>106.032</td>\n",
              "      <td>133707</td>\n",
              "      <td>0</td>\n",
              "    </tr>\n",
              "    <tr>\n",
              "      <th>3</th>\n",
              "      <td>Here's Your Perfect</td>\n",
              "      <td>Jamie Miller</td>\n",
              "      <td>65</td>\n",
              "      <td>Here's Your Perfect</td>\n",
              "      <td>77</td>\n",
              "      <td>0.558</td>\n",
              "      <td>0.454</td>\n",
              "      <td>6</td>\n",
              "      <td>0.0551</td>\n",
              "      <td>0.4990</td>\n",
              "      <td>0.424</td>\n",
              "      <td>113.120</td>\n",
              "      <td>158594</td>\n",
              "      <td>1</td>\n",
              "    </tr>\n",
              "    <tr>\n",
              "      <th>4</th>\n",
              "      <td>It's You</td>\n",
              "      <td>Sezairi</td>\n",
              "      <td>57</td>\n",
              "      <td>It's You</td>\n",
              "      <td>73</td>\n",
              "      <td>0.630</td>\n",
              "      <td>0.456</td>\n",
              "      <td>8</td>\n",
              "      <td>0.0317</td>\n",
              "      <td>0.5450</td>\n",
              "      <td>0.166</td>\n",
              "      <td>137.915</td>\n",
              "      <td>251440</td>\n",
              "      <td>1</td>\n",
              "    </tr>\n",
              "  </tbody>\n",
              "</table>\n",
              "</div>\n",
              "      <button class=\"colab-df-convert\" onclick=\"convertToInteractive('df-5a301567-7b81-45fa-a603-14e884b34c1c')\"\n",
              "              title=\"Convert this dataframe to an interactive table.\"\n",
              "              style=\"display:none;\">\n",
              "        \n",
              "  <svg xmlns=\"http://www.w3.org/2000/svg\" height=\"24px\"viewBox=\"0 0 24 24\"\n",
              "       width=\"24px\">\n",
              "    <path d=\"M0 0h24v24H0V0z\" fill=\"none\"/>\n",
              "    <path d=\"M18.56 5.44l.94 2.06.94-2.06 2.06-.94-2.06-.94-.94-2.06-.94 2.06-2.06.94zm-11 1L8.5 8.5l.94-2.06 2.06-.94-2.06-.94L8.5 2.5l-.94 2.06-2.06.94zm10 10l.94 2.06.94-2.06 2.06-.94-2.06-.94-.94-2.06-.94 2.06-2.06.94z\"/><path d=\"M17.41 7.96l-1.37-1.37c-.4-.4-.92-.59-1.43-.59-.52 0-1.04.2-1.43.59L10.3 9.45l-7.72 7.72c-.78.78-.78 2.05 0 2.83L4 21.41c.39.39.9.59 1.41.59.51 0 1.02-.2 1.41-.59l7.78-7.78 2.81-2.81c.8-.78.8-2.07 0-2.86zM5.41 20L4 18.59l7.72-7.72 1.47 1.35L5.41 20z\"/>\n",
              "  </svg>\n",
              "      </button>\n",
              "      \n",
              "  <style>\n",
              "    .colab-df-container {\n",
              "      display:flex;\n",
              "      flex-wrap:wrap;\n",
              "      gap: 12px;\n",
              "    }\n",
              "\n",
              "    .colab-df-convert {\n",
              "      background-color: #E8F0FE;\n",
              "      border: none;\n",
              "      border-radius: 50%;\n",
              "      cursor: pointer;\n",
              "      display: none;\n",
              "      fill: #1967D2;\n",
              "      height: 32px;\n",
              "      padding: 0 0 0 0;\n",
              "      width: 32px;\n",
              "    }\n",
              "\n",
              "    .colab-df-convert:hover {\n",
              "      background-color: #E2EBFA;\n",
              "      box-shadow: 0px 1px 2px rgba(60, 64, 67, 0.3), 0px 1px 3px 1px rgba(60, 64, 67, 0.15);\n",
              "      fill: #174EA6;\n",
              "    }\n",
              "\n",
              "    [theme=dark] .colab-df-convert {\n",
              "      background-color: #3B4455;\n",
              "      fill: #D2E3FC;\n",
              "    }\n",
              "\n",
              "    [theme=dark] .colab-df-convert:hover {\n",
              "      background-color: #434B5C;\n",
              "      box-shadow: 0px 1px 3px 1px rgba(0, 0, 0, 0.15);\n",
              "      filter: drop-shadow(0px 1px 2px rgba(0, 0, 0, 0.3));\n",
              "      fill: #FFFFFF;\n",
              "    }\n",
              "  </style>\n",
              "\n",
              "      <script>\n",
              "        const buttonEl =\n",
              "          document.querySelector('#df-5a301567-7b81-45fa-a603-14e884b34c1c button.colab-df-convert');\n",
              "        buttonEl.style.display =\n",
              "          google.colab.kernel.accessAllowed ? 'block' : 'none';\n",
              "\n",
              "        async function convertToInteractive(key) {\n",
              "          const element = document.querySelector('#df-5a301567-7b81-45fa-a603-14e884b34c1c');\n",
              "          const dataTable =\n",
              "            await google.colab.kernel.invokeFunction('convertToInteractive',\n",
              "                                                     [key], {});\n",
              "          if (!dataTable) return;\n",
              "\n",
              "          const docLinkHtml = 'Like what you see? Visit the ' +\n",
              "            '<a target=\"_blank\" href=https://colab.research.google.com/notebooks/data_table.ipynb>data table notebook</a>'\n",
              "            + ' to learn more about interactive tables.';\n",
              "          element.innerHTML = '';\n",
              "          dataTable['output_type'] = 'display_data';\n",
              "          await google.colab.output.renderOutput(dataTable, element);\n",
              "          const docLink = document.createElement('div');\n",
              "          docLink.innerHTML = docLinkHtml;\n",
              "          element.appendChild(docLink);\n",
              "        }\n",
              "      </script>\n",
              "    </div>\n",
              "  </div>\n",
              "  "
            ]
          },
          "metadata": {},
          "execution_count": 8
        }
      ]
    },
    {
      "cell_type": "markdown",
      "source": [
        "Display of head values of the dataset"
      ],
      "metadata": {
        "id": "AE4Dig5v8mZc"
      }
    },
    {
      "cell_type": "code",
      "source": [
        "rd.mean()"
      ],
      "metadata": {
        "colab": {
          "base_uri": "https://localhost:8080/"
        },
        "id": "LeLdHBENnbqc",
        "outputId": "2079685e-6211-4ae2-98b1-b2aa0251b3c0"
      },
      "execution_count": null,
      "outputs": [
        {
          "output_type": "stream",
          "name": "stderr",
          "text": [
            "/usr/local/lib/python3.7/dist-packages/ipykernel_launcher.py:1: FutureWarning: Dropping of nuisance columns in DataFrame reductions (with 'numeric_only=None') is deprecated; in a future version this will raise TypeError.  Select only valid columns before calling the reduction.\n",
            "  \"\"\"Entry point for launching an IPython kernel.\n"
          ]
        },
        {
          "output_type": "execute_result",
          "data": {
            "text/plain": [
              "artist_pop          70.878947\n",
              "track_pop           65.578947\n",
              "danceability         0.708105\n",
              "energy               0.672700\n",
              "key                  4.894737\n",
              "speechiness          0.093522\n",
              "acousticness         0.204124\n",
              "valence              0.563204\n",
              "tempo              125.533495\n",
              "duration_ms     194612.563158\n",
              "mode                 0.621053\n",
              "dtype: float64"
            ]
          },
          "metadata": {},
          "execution_count": 10
        }
      ]
    },
    {
      "cell_type": "markdown",
      "source": [
        "Mean of all values of all attributes\n",
        "\n",
        "Mean of artist_pop is 70.8 which is higher than the mean of track_pop which is 65 this means that the artists that are already popular have a higher chance of having a hit song in the list as compared to lesser known artists."
      ],
      "metadata": {
        "id": "qJIdwjDBD2dO"
      }
    },
    {
      "cell_type": "markdown",
      "source": [
        "The mean key of the whole data set is around 5 which tells us that songs having 5 number of flats have a higher chance of gaining popularity.\n",
        "\n",
        "Key 5 is D major or B minor"
      ],
      "metadata": {
        "id": "g_BLwA5HTtSP"
      }
    },
    {
      "cell_type": "code",
      "source": [
        "rd.median()"
      ],
      "metadata": {
        "colab": {
          "base_uri": "https://localhost:8080/"
        },
        "id": "KldBE06hnebd",
        "outputId": "a19bf909-b65e-4133-b2fa-10853abac345"
      },
      "execution_count": null,
      "outputs": [
        {
          "output_type": "stream",
          "name": "stderr",
          "text": [
            "/usr/local/lib/python3.7/dist-packages/ipykernel_launcher.py:1: FutureWarning: Dropping of nuisance columns in DataFrame reductions (with 'numeric_only=None') is deprecated; in a future version this will raise TypeError.  Select only valid columns before calling the reduction.\n",
            "  \"\"\"Entry point for launching an IPython kernel.\n"
          ]
        },
        {
          "output_type": "execute_result",
          "data": {
            "text/plain": [
              "artist_pop          73.5000\n",
              "track_pop           73.0000\n",
              "danceability         0.7100\n",
              "energy               0.6920\n",
              "key                  5.0000\n",
              "speechiness          0.0557\n",
              "acousticness         0.1190\n",
              "valence              0.5840\n",
              "tempo              122.9750\n",
              "duration_ms     195806.5000\n",
              "mode                 1.0000\n",
              "dtype: float64"
            ]
          },
          "metadata": {},
          "execution_count": 11
        }
      ]
    },
    {
      "cell_type": "markdown",
      "source": [
        "Median of all values of all attributes"
      ],
      "metadata": {
        "id": "F7nqbTVGEeUu"
      }
    },
    {
      "cell_type": "markdown",
      "source": [
        "The median value for duration of songs is 195k(ms) which is very close to the mean value as well so we see that generally the songs that get popular on tiktok are just over 3 minutes "
      ],
      "metadata": {
        "id": "js7LSdhqVZTZ"
      }
    },
    {
      "cell_type": "code",
      "source": [
        "rd.mode()"
      ],
      "metadata": {
        "colab": {
          "base_uri": "https://localhost:8080/",
          "height": 570
        },
        "id": "y2b5duUongUk",
        "outputId": "72993b57-6869-4308-d113-00fe650d02d4"
      },
      "execution_count": null,
      "outputs": [
        {
          "output_type": "execute_result",
          "data": {
            "text/plain": [
              "   track_name    artist_name  artist_pop       album  track_pop  danceability  \\\n",
              "0     Love Me  Justin Bieber        65.0  Planet Her       77.0         0.630   \n",
              "1         NaN            NaN        75.0         NaN        NaN         0.691   \n",
              "2         NaN            NaN        85.0         NaN        NaN         0.699   \n",
              "3         NaN            NaN        90.0         NaN        NaN         0.720   \n",
              "4         NaN            NaN         NaN         NaN        NaN         0.734   \n",
              "5         NaN            NaN         NaN         NaN        NaN         0.745   \n",
              "6         NaN            NaN         NaN         NaN        NaN         0.778   \n",
              "7         NaN            NaN         NaN         NaN        NaN           NaN   \n",
              "8         NaN            NaN         NaN         NaN        NaN           NaN   \n",
              "9         NaN            NaN         NaN         NaN        NaN           NaN   \n",
              "10        NaN            NaN         NaN         NaN        NaN           NaN   \n",
              "11        NaN            NaN         NaN         NaN        NaN           NaN   \n",
              "12        NaN            NaN         NaN         NaN        NaN           NaN   \n",
              "13        NaN            NaN         NaN         NaN        NaN           NaN   \n",
              "\n",
              "    energy  key  speechiness  acousticness  valence    tempo  duration_ms  \\\n",
              "0    0.611  1.0       0.0317        0.0164    0.386  126.026     220573.0   \n",
              "1    0.673  NaN       0.0327           NaN    0.543  150.076          NaN   \n",
              "2    0.739  NaN       0.0402           NaN    0.591      NaN          NaN   \n",
              "3    0.764  NaN       0.0435           NaN    0.758      NaN          NaN   \n",
              "4    0.782  NaN       0.0441           NaN      NaN      NaN          NaN   \n",
              "5    0.884  NaN       0.0467           NaN      NaN      NaN          NaN   \n",
              "6      NaN  NaN       0.0478           NaN      NaN      NaN          NaN   \n",
              "7      NaN  NaN       0.0479           NaN      NaN      NaN          NaN   \n",
              "8      NaN  NaN       0.0483           NaN      NaN      NaN          NaN   \n",
              "9      NaN  NaN       0.0503           NaN      NaN      NaN          NaN   \n",
              "10     NaN  NaN       0.0569           NaN      NaN      NaN          NaN   \n",
              "11     NaN  NaN       0.0707           NaN      NaN      NaN          NaN   \n",
              "12     NaN  NaN       0.0791           NaN      NaN      NaN          NaN   \n",
              "13     NaN  NaN       0.1170           NaN      NaN      NaN          NaN   \n",
              "\n",
              "    mode  \n",
              "0    1.0  \n",
              "1    NaN  \n",
              "2    NaN  \n",
              "3    NaN  \n",
              "4    NaN  \n",
              "5    NaN  \n",
              "6    NaN  \n",
              "7    NaN  \n",
              "8    NaN  \n",
              "9    NaN  \n",
              "10   NaN  \n",
              "11   NaN  \n",
              "12   NaN  \n",
              "13   NaN  "
            ],
            "text/html": [
              "\n",
              "  <div id=\"df-bf901e43-62c0-4e11-ad64-7e7b776b4a7a\">\n",
              "    <div class=\"colab-df-container\">\n",
              "      <div>\n",
              "<style scoped>\n",
              "    .dataframe tbody tr th:only-of-type {\n",
              "        vertical-align: middle;\n",
              "    }\n",
              "\n",
              "    .dataframe tbody tr th {\n",
              "        vertical-align: top;\n",
              "    }\n",
              "\n",
              "    .dataframe thead th {\n",
              "        text-align: right;\n",
              "    }\n",
              "</style>\n",
              "<table border=\"1\" class=\"dataframe\">\n",
              "  <thead>\n",
              "    <tr style=\"text-align: right;\">\n",
              "      <th></th>\n",
              "      <th>track_name</th>\n",
              "      <th>artist_name</th>\n",
              "      <th>artist_pop</th>\n",
              "      <th>album</th>\n",
              "      <th>track_pop</th>\n",
              "      <th>danceability</th>\n",
              "      <th>energy</th>\n",
              "      <th>key</th>\n",
              "      <th>speechiness</th>\n",
              "      <th>acousticness</th>\n",
              "      <th>valence</th>\n",
              "      <th>tempo</th>\n",
              "      <th>duration_ms</th>\n",
              "      <th>mode</th>\n",
              "    </tr>\n",
              "  </thead>\n",
              "  <tbody>\n",
              "    <tr>\n",
              "      <th>0</th>\n",
              "      <td>Love Me</td>\n",
              "      <td>Justin Bieber</td>\n",
              "      <td>65.0</td>\n",
              "      <td>Planet Her</td>\n",
              "      <td>77.0</td>\n",
              "      <td>0.630</td>\n",
              "      <td>0.611</td>\n",
              "      <td>1.0</td>\n",
              "      <td>0.0317</td>\n",
              "      <td>0.0164</td>\n",
              "      <td>0.386</td>\n",
              "      <td>126.026</td>\n",
              "      <td>220573.0</td>\n",
              "      <td>1.0</td>\n",
              "    </tr>\n",
              "    <tr>\n",
              "      <th>1</th>\n",
              "      <td>NaN</td>\n",
              "      <td>NaN</td>\n",
              "      <td>75.0</td>\n",
              "      <td>NaN</td>\n",
              "      <td>NaN</td>\n",
              "      <td>0.691</td>\n",
              "      <td>0.673</td>\n",
              "      <td>NaN</td>\n",
              "      <td>0.0327</td>\n",
              "      <td>NaN</td>\n",
              "      <td>0.543</td>\n",
              "      <td>150.076</td>\n",
              "      <td>NaN</td>\n",
              "      <td>NaN</td>\n",
              "    </tr>\n",
              "    <tr>\n",
              "      <th>2</th>\n",
              "      <td>NaN</td>\n",
              "      <td>NaN</td>\n",
              "      <td>85.0</td>\n",
              "      <td>NaN</td>\n",
              "      <td>NaN</td>\n",
              "      <td>0.699</td>\n",
              "      <td>0.739</td>\n",
              "      <td>NaN</td>\n",
              "      <td>0.0402</td>\n",
              "      <td>NaN</td>\n",
              "      <td>0.591</td>\n",
              "      <td>NaN</td>\n",
              "      <td>NaN</td>\n",
              "      <td>NaN</td>\n",
              "    </tr>\n",
              "    <tr>\n",
              "      <th>3</th>\n",
              "      <td>NaN</td>\n",
              "      <td>NaN</td>\n",
              "      <td>90.0</td>\n",
              "      <td>NaN</td>\n",
              "      <td>NaN</td>\n",
              "      <td>0.720</td>\n",
              "      <td>0.764</td>\n",
              "      <td>NaN</td>\n",
              "      <td>0.0435</td>\n",
              "      <td>NaN</td>\n",
              "      <td>0.758</td>\n",
              "      <td>NaN</td>\n",
              "      <td>NaN</td>\n",
              "      <td>NaN</td>\n",
              "    </tr>\n",
              "    <tr>\n",
              "      <th>4</th>\n",
              "      <td>NaN</td>\n",
              "      <td>NaN</td>\n",
              "      <td>NaN</td>\n",
              "      <td>NaN</td>\n",
              "      <td>NaN</td>\n",
              "      <td>0.734</td>\n",
              "      <td>0.782</td>\n",
              "      <td>NaN</td>\n",
              "      <td>0.0441</td>\n",
              "      <td>NaN</td>\n",
              "      <td>NaN</td>\n",
              "      <td>NaN</td>\n",
              "      <td>NaN</td>\n",
              "      <td>NaN</td>\n",
              "    </tr>\n",
              "    <tr>\n",
              "      <th>5</th>\n",
              "      <td>NaN</td>\n",
              "      <td>NaN</td>\n",
              "      <td>NaN</td>\n",
              "      <td>NaN</td>\n",
              "      <td>NaN</td>\n",
              "      <td>0.745</td>\n",
              "      <td>0.884</td>\n",
              "      <td>NaN</td>\n",
              "      <td>0.0467</td>\n",
              "      <td>NaN</td>\n",
              "      <td>NaN</td>\n",
              "      <td>NaN</td>\n",
              "      <td>NaN</td>\n",
              "      <td>NaN</td>\n",
              "    </tr>\n",
              "    <tr>\n",
              "      <th>6</th>\n",
              "      <td>NaN</td>\n",
              "      <td>NaN</td>\n",
              "      <td>NaN</td>\n",
              "      <td>NaN</td>\n",
              "      <td>NaN</td>\n",
              "      <td>0.778</td>\n",
              "      <td>NaN</td>\n",
              "      <td>NaN</td>\n",
              "      <td>0.0478</td>\n",
              "      <td>NaN</td>\n",
              "      <td>NaN</td>\n",
              "      <td>NaN</td>\n",
              "      <td>NaN</td>\n",
              "      <td>NaN</td>\n",
              "    </tr>\n",
              "    <tr>\n",
              "      <th>7</th>\n",
              "      <td>NaN</td>\n",
              "      <td>NaN</td>\n",
              "      <td>NaN</td>\n",
              "      <td>NaN</td>\n",
              "      <td>NaN</td>\n",
              "      <td>NaN</td>\n",
              "      <td>NaN</td>\n",
              "      <td>NaN</td>\n",
              "      <td>0.0479</td>\n",
              "      <td>NaN</td>\n",
              "      <td>NaN</td>\n",
              "      <td>NaN</td>\n",
              "      <td>NaN</td>\n",
              "      <td>NaN</td>\n",
              "    </tr>\n",
              "    <tr>\n",
              "      <th>8</th>\n",
              "      <td>NaN</td>\n",
              "      <td>NaN</td>\n",
              "      <td>NaN</td>\n",
              "      <td>NaN</td>\n",
              "      <td>NaN</td>\n",
              "      <td>NaN</td>\n",
              "      <td>NaN</td>\n",
              "      <td>NaN</td>\n",
              "      <td>0.0483</td>\n",
              "      <td>NaN</td>\n",
              "      <td>NaN</td>\n",
              "      <td>NaN</td>\n",
              "      <td>NaN</td>\n",
              "      <td>NaN</td>\n",
              "    </tr>\n",
              "    <tr>\n",
              "      <th>9</th>\n",
              "      <td>NaN</td>\n",
              "      <td>NaN</td>\n",
              "      <td>NaN</td>\n",
              "      <td>NaN</td>\n",
              "      <td>NaN</td>\n",
              "      <td>NaN</td>\n",
              "      <td>NaN</td>\n",
              "      <td>NaN</td>\n",
              "      <td>0.0503</td>\n",
              "      <td>NaN</td>\n",
              "      <td>NaN</td>\n",
              "      <td>NaN</td>\n",
              "      <td>NaN</td>\n",
              "      <td>NaN</td>\n",
              "    </tr>\n",
              "    <tr>\n",
              "      <th>10</th>\n",
              "      <td>NaN</td>\n",
              "      <td>NaN</td>\n",
              "      <td>NaN</td>\n",
              "      <td>NaN</td>\n",
              "      <td>NaN</td>\n",
              "      <td>NaN</td>\n",
              "      <td>NaN</td>\n",
              "      <td>NaN</td>\n",
              "      <td>0.0569</td>\n",
              "      <td>NaN</td>\n",
              "      <td>NaN</td>\n",
              "      <td>NaN</td>\n",
              "      <td>NaN</td>\n",
              "      <td>NaN</td>\n",
              "    </tr>\n",
              "    <tr>\n",
              "      <th>11</th>\n",
              "      <td>NaN</td>\n",
              "      <td>NaN</td>\n",
              "      <td>NaN</td>\n",
              "      <td>NaN</td>\n",
              "      <td>NaN</td>\n",
              "      <td>NaN</td>\n",
              "      <td>NaN</td>\n",
              "      <td>NaN</td>\n",
              "      <td>0.0707</td>\n",
              "      <td>NaN</td>\n",
              "      <td>NaN</td>\n",
              "      <td>NaN</td>\n",
              "      <td>NaN</td>\n",
              "      <td>NaN</td>\n",
              "    </tr>\n",
              "    <tr>\n",
              "      <th>12</th>\n",
              "      <td>NaN</td>\n",
              "      <td>NaN</td>\n",
              "      <td>NaN</td>\n",
              "      <td>NaN</td>\n",
              "      <td>NaN</td>\n",
              "      <td>NaN</td>\n",
              "      <td>NaN</td>\n",
              "      <td>NaN</td>\n",
              "      <td>0.0791</td>\n",
              "      <td>NaN</td>\n",
              "      <td>NaN</td>\n",
              "      <td>NaN</td>\n",
              "      <td>NaN</td>\n",
              "      <td>NaN</td>\n",
              "    </tr>\n",
              "    <tr>\n",
              "      <th>13</th>\n",
              "      <td>NaN</td>\n",
              "      <td>NaN</td>\n",
              "      <td>NaN</td>\n",
              "      <td>NaN</td>\n",
              "      <td>NaN</td>\n",
              "      <td>NaN</td>\n",
              "      <td>NaN</td>\n",
              "      <td>NaN</td>\n",
              "      <td>0.1170</td>\n",
              "      <td>NaN</td>\n",
              "      <td>NaN</td>\n",
              "      <td>NaN</td>\n",
              "      <td>NaN</td>\n",
              "      <td>NaN</td>\n",
              "    </tr>\n",
              "  </tbody>\n",
              "</table>\n",
              "</div>\n",
              "      <button class=\"colab-df-convert\" onclick=\"convertToInteractive('df-bf901e43-62c0-4e11-ad64-7e7b776b4a7a')\"\n",
              "              title=\"Convert this dataframe to an interactive table.\"\n",
              "              style=\"display:none;\">\n",
              "        \n",
              "  <svg xmlns=\"http://www.w3.org/2000/svg\" height=\"24px\"viewBox=\"0 0 24 24\"\n",
              "       width=\"24px\">\n",
              "    <path d=\"M0 0h24v24H0V0z\" fill=\"none\"/>\n",
              "    <path d=\"M18.56 5.44l.94 2.06.94-2.06 2.06-.94-2.06-.94-.94-2.06-.94 2.06-2.06.94zm-11 1L8.5 8.5l.94-2.06 2.06-.94-2.06-.94L8.5 2.5l-.94 2.06-2.06.94zm10 10l.94 2.06.94-2.06 2.06-.94-2.06-.94-.94-2.06-.94 2.06-2.06.94z\"/><path d=\"M17.41 7.96l-1.37-1.37c-.4-.4-.92-.59-1.43-.59-.52 0-1.04.2-1.43.59L10.3 9.45l-7.72 7.72c-.78.78-.78 2.05 0 2.83L4 21.41c.39.39.9.59 1.41.59.51 0 1.02-.2 1.41-.59l7.78-7.78 2.81-2.81c.8-.78.8-2.07 0-2.86zM5.41 20L4 18.59l7.72-7.72 1.47 1.35L5.41 20z\"/>\n",
              "  </svg>\n",
              "      </button>\n",
              "      \n",
              "  <style>\n",
              "    .colab-df-container {\n",
              "      display:flex;\n",
              "      flex-wrap:wrap;\n",
              "      gap: 12px;\n",
              "    }\n",
              "\n",
              "    .colab-df-convert {\n",
              "      background-color: #E8F0FE;\n",
              "      border: none;\n",
              "      border-radius: 50%;\n",
              "      cursor: pointer;\n",
              "      display: none;\n",
              "      fill: #1967D2;\n",
              "      height: 32px;\n",
              "      padding: 0 0 0 0;\n",
              "      width: 32px;\n",
              "    }\n",
              "\n",
              "    .colab-df-convert:hover {\n",
              "      background-color: #E2EBFA;\n",
              "      box-shadow: 0px 1px 2px rgba(60, 64, 67, 0.3), 0px 1px 3px 1px rgba(60, 64, 67, 0.15);\n",
              "      fill: #174EA6;\n",
              "    }\n",
              "\n",
              "    [theme=dark] .colab-df-convert {\n",
              "      background-color: #3B4455;\n",
              "      fill: #D2E3FC;\n",
              "    }\n",
              "\n",
              "    [theme=dark] .colab-df-convert:hover {\n",
              "      background-color: #434B5C;\n",
              "      box-shadow: 0px 1px 3px 1px rgba(0, 0, 0, 0.15);\n",
              "      filter: drop-shadow(0px 1px 2px rgba(0, 0, 0, 0.3));\n",
              "      fill: #FFFFFF;\n",
              "    }\n",
              "  </style>\n",
              "\n",
              "      <script>\n",
              "        const buttonEl =\n",
              "          document.querySelector('#df-bf901e43-62c0-4e11-ad64-7e7b776b4a7a button.colab-df-convert');\n",
              "        buttonEl.style.display =\n",
              "          google.colab.kernel.accessAllowed ? 'block' : 'none';\n",
              "\n",
              "        async function convertToInteractive(key) {\n",
              "          const element = document.querySelector('#df-bf901e43-62c0-4e11-ad64-7e7b776b4a7a');\n",
              "          const dataTable =\n",
              "            await google.colab.kernel.invokeFunction('convertToInteractive',\n",
              "                                                     [key], {});\n",
              "          if (!dataTable) return;\n",
              "\n",
              "          const docLinkHtml = 'Like what you see? Visit the ' +\n",
              "            '<a target=\"_blank\" href=https://colab.research.google.com/notebooks/data_table.ipynb>data table notebook</a>'\n",
              "            + ' to learn more about interactive tables.';\n",
              "          element.innerHTML = '';\n",
              "          dataTable['output_type'] = 'display_data';\n",
              "          await google.colab.output.renderOutput(dataTable, element);\n",
              "          const docLink = document.createElement('div');\n",
              "          docLink.innerHTML = docLinkHtml;\n",
              "          element.appendChild(docLink);\n",
              "        }\n",
              "      </script>\n",
              "    </div>\n",
              "  </div>\n",
              "  "
            ]
          },
          "metadata": {},
          "execution_count": 12
        }
      ]
    },
    {
      "cell_type": "markdown",
      "source": [
        "Mode of all values of all attributes"
      ],
      "metadata": {
        "id": "3L2YKTqOEhH0"
      }
    },
    {
      "cell_type": "code",
      "source": [
        "rd.skew()"
      ],
      "metadata": {
        "colab": {
          "base_uri": "https://localhost:8080/"
        },
        "id": "hPYSk_S8nZC-",
        "outputId": "a04e0c70-67f1-4917-96be-128aa3df997a"
      },
      "execution_count": null,
      "outputs": [
        {
          "output_type": "stream",
          "name": "stderr",
          "text": [
            "/usr/local/lib/python3.7/dist-packages/ipykernel_launcher.py:1: FutureWarning: Dropping of nuisance columns in DataFrame reductions (with 'numeric_only=None') is deprecated; in a future version this will raise TypeError.  Select only valid columns before calling the reduction.\n",
            "  \"\"\"Entry point for launching an IPython kernel.\n"
          ]
        },
        {
          "output_type": "execute_result",
          "data": {
            "text/plain": [
              "artist_pop     -1.277291\n",
              "track_pop      -1.787041\n",
              "danceability   -0.384577\n",
              "energy         -0.507970\n",
              "key             0.162130\n",
              "speechiness     2.432277\n",
              "acousticness    1.089383\n",
              "valence        -0.254453\n",
              "tempo           0.650718\n",
              "duration_ms     0.212818\n",
              "mode           -0.503038\n",
              "dtype: float64"
            ]
          },
          "metadata": {},
          "execution_count": 9
        }
      ]
    },
    {
      "cell_type": "markdown",
      "source": [
        "Skewness characterizes the degree of asymmetry of a distribution around its mean\n",
        "\n",
        "Positive skewness indicates a distribution with an asymmetric tail extending toward more positive values\n",
        "\n",
        "Negative skewness indicates a distribution with an asymmetric tail extending toward more negative values\n",
        "\n",
        "The skewness of key, danceability, tempo, duration are closer to zero indicating that these attributes have similar values in all songs in the datasets"
      ],
      "metadata": {
        "id": "nSvWywkR8sC0"
      }
    },
    {
      "cell_type": "code",
      "source": [
        "statistics.variance(rd['artist_pop'])"
      ],
      "metadata": {
        "colab": {
          "base_uri": "https://localhost:8080/"
        },
        "id": "AHnZih3snypx",
        "outputId": "7bb58ca0-e021-4a93-bf18-0dd9ce366950"
      },
      "execution_count": null,
      "outputs": [
        {
          "output_type": "execute_result",
          "data": {
            "text/plain": [
              "234.12812587023114"
            ]
          },
          "metadata": {},
          "execution_count": 13
        }
      ]
    },
    {
      "cell_type": "markdown",
      "source": [
        "The variance is a measure of variability\n",
        "\n",
        "It is calculated by taking the average of squared deviations from the mean. Variance tells you the degree of spread in your data set\n",
        "\n",
        "The more spread the data, the larger the variance is in relation to the mean\n",
        "\n",
        "Here we check variance for the attribute 'artist pop' which comes out to be around 238 where as the mean of that attribute is around 70 this high value shows us that there is a lot of variation in the value/ratings of artist_pop"
      ],
      "metadata": {
        "id": "Vgw5JqZzEzyG"
      }
    },
    {
      "cell_type": "code",
      "source": [
        "statistics.variance(rd['energy'])"
      ],
      "metadata": {
        "colab": {
          "base_uri": "https://localhost:8080/"
        },
        "id": "u18YLn_ln9Zs",
        "outputId": "0a58b79e-c4a7-4f78-fe7d-e9a8cc7a7526"
      },
      "execution_count": null,
      "outputs": [
        {
          "output_type": "execute_result",
          "data": {
            "text/plain": [
              "0.022416391005291005"
            ]
          },
          "metadata": {},
          "execution_count": 14
        }
      ]
    },
    {
      "cell_type": "markdown",
      "source": [
        "Variance value for the attribute of energy is very low which indicates that there is less deviation from the mean of the attribute, this is also seen in danceability"
      ],
      "metadata": {
        "id": "Nrs3vmiaE9FA"
      }
    },
    {
      "cell_type": "code",
      "source": [
        "statistics.variance(rd['danceability'])"
      ],
      "metadata": {
        "colab": {
          "base_uri": "https://localhost:8080/"
        },
        "id": "FyfvZ1TkpFGB",
        "outputId": "f9ecd96a-ef96-466d-cceb-badf267c1e13"
      },
      "execution_count": null,
      "outputs": [
        {
          "output_type": "execute_result",
          "data": {
            "text/plain": [
              "0.013661385686438317"
            ]
          },
          "metadata": {},
          "execution_count": 15
        }
      ]
    },
    {
      "cell_type": "code",
      "source": [
        "#z test\n",
        "from numpy.random import randn\n",
        "from statsmodels.stats.weightstats import ztest\n",
        "\n",
        "alpha=0.05\n",
        "null_hypo=70.878947\n",
        "\n",
        "ztest_Score, p_value= ztest(rd['artist_pop'],value = null_hypo, alternative='larger')\n",
        "# the function outputs a p_value and z-score corresponding to that value, we compare the \n",
        "# p-value with alpha, if it is greater than alpha then we do not null hypothesis \n",
        "# else we reject it.\n",
        "  \n",
        "if(p_value <  alpha):\n",
        "  print(\"Reject Null Hypothesis\")\n",
        "else:\n",
        "  print(\"Fail to Reject NUll Hypothesis thus null hypothesis true\")"
      ],
      "metadata": {
        "colab": {
          "base_uri": "https://localhost:8080/"
        },
        "id": "ko8knqNP3l2G",
        "outputId": "a313081a-bd28-45fd-cb6a-5ed8d759ef74"
      },
      "execution_count": null,
      "outputs": [
        {
          "output_type": "stream",
          "name": "stdout",
          "text": [
            "Fail to Reject NUll Hypothesis thus null hypothesis true\n"
          ]
        }
      ]
    },
    {
      "cell_type": "markdown",
      "source": [
        "Z-test is a statistical method to determine whether the distribution of the test statistics can be approximated by a normal distribution\n",
        "\n",
        "It is the method to determine whether two sample means are approximately the same or different when their variance is known and the sample size is large"
      ],
      "metadata": {
        "id": "x4RuwJRiYtC1"
      }
    }
  ]
}